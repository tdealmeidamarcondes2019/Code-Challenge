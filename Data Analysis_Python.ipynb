{
 "cells": [
  {
   "cell_type": "markdown",
   "metadata": {},
   "source": [
    "***\n",
    "***\n",
    "***\n",
    "\n",
    "# Umba Analysis | Weekly Logins\n",
    "\n",
    "***\n",
    "***"
   ]
  },
  {
   "cell_type": "markdown",
   "metadata": {},
   "source": [
    "## Agenda\n",
    "\n",
    "1. Introduction\n",
    "2. Data preparation\n",
    "3. Exploratory analysis\n",
    "***"
   ]
  },
  {
   "cell_type": "markdown",
   "metadata": {},
   "source": [
    "<h3> Introduction </h3>\n",
    "\n",
    "The objective of this analysis will be to understand which categories or groups have a higher engagement with the platform. In order to get that understanding, first, we will adapt the dataset to get only numerical variables, i.e., we will drop non-numerical variables that are not categorical, and we will create one new binary variable per different group type.\n",
    "\n",
    "With that numerical dataset, we will analyze it by checking the correlation among users with more weekly logins than the average and the other variables. After that, we will build a tree based-model to check the most relevant variables to higher engagement with the platform, i.e., more logins per week."
   ]
  },
  {
   "cell_type": "markdown",
   "metadata": {},
   "source": [
    "***\n",
    "<h3> Data Preparation</h3>"
   ]
  },
  {
   "cell_type": "code",
   "execution_count": null,
   "metadata": {
    "code_folding": [
     0
    ]
   },
   "outputs": [],
   "source": [
    "# Importing necessary packages: \n",
    "import pandas as pd \n",
    "import matplotlib.pyplot as plt \n",
    "import seaborn as sns                               "
   ]
  },
  {
   "cell_type": "code",
   "execution_count": null,
   "metadata": {
    "code_folding": [
     0
    ]
   },
   "outputs": [],
   "source": [
    "# Reading external file: \n",
    "file = 'weekly_logins.csv'\n",
    "week_log = pd.read_csv(file)"
   ]
  },
  {
   "cell_type": "code",
   "execution_count": null,
   "metadata": {
    "code_folding": [
     0
    ]
   },
   "outputs": [],
   "source": [
    "# Changing column names to make data manipulation easier: \n",
    "# Changing variable names:\n",
    "week_log = week_log.rename(columns={'User Name'                  :'user_name',\n",
    "                                    'Slack Integration'          :'slack_integration',\n",
    "                                    'Most Used Page'             :'most_used_page',\n",
    "                                    'Had Free Trial'             :'free_trial',\n",
    "                                    'User MRR'                   :'user_mrr',\n",
    "                                    'Weekly Logins'              :'weekly_logins',\n",
    "                                    'Company Name'               :'company_name',\n",
    "                                    'Industry'                   :'industry',\n",
    "                                    'Company Size'               :'company_size',\n",
    "                                    'Territory'                  :'territory',\n",
    "                                    'Sales Call in Trial'        :'sales_call',\n",
    "                                    'Zendesk Integration'        :'zendesk',\n",
    "                                    'Salesforce Integration'     :'salesforce',\n",
    "                                    'Gmail Integration'          :'gmail',\n",
    "                                    'Most common referrer'       :'most_common_referrer',\n",
    "                                    'Most common IP'             :'most_common_ip',\n",
    "                                    'Sales Touches to Close'     :'touch_close',\n",
    "                                    'Used Admin Panel'           :'admin_panel',\n",
    "                                    'Has Issued Support Request' :'support_request'})"
   ]
  },
  {
   "cell_type": "code",
   "execution_count": null,
   "metadata": {
    "code_folding": [
     0
    ]
   },
   "outputs": [],
   "source": [
    "# Making sure that is no missing values: \n",
    "week_log.isnull().sum()"
   ]
  },
  {
   "cell_type": "code",
   "execution_count": null,
   "metadata": {
    "code_folding": [
     0
    ]
   },
   "outputs": [],
   "source": [
    "# Converting binary variables, i.e., Yes/No, in numerical values: \n",
    "for index, col in week_log.iterrows():\n",
    "    if week_log.loc[index, 'slack_integration'] == 'No':\n",
    "        week_log.loc[index, 'slack_integration'] = 0\n",
    "    elif week_log.loc[index, 'slack_integration'] == 'Yes':\n",
    "        week_log.loc[index, 'slack_integration'] = 1\n",
    "\n",
    "for index, col in week_log.iterrows():\n",
    "    if week_log.loc[index, 'free_trial'] == 'No':\n",
    "        week_log.loc[index, 'free_trial'] = 0\n",
    "    elif week_log.loc[index, 'free_trial'] == 'Yes':\n",
    "        week_log.loc[index, 'free_trial'] = 1\n",
    "        \n",
    "for index, col in week_log.iterrows():\n",
    "    if week_log.loc[index, 'sales_call'] == 'No':\n",
    "        week_log.loc[index, 'sales_call'] = 0\n",
    "    elif week_log.loc[index, 'sales_call'] == 'Yes':\n",
    "        week_log.loc[index, 'sales_call'] = 1\n",
    "\n",
    "for index, col in week_log.iterrows():\n",
    "    if week_log.loc[index, 'zendesk'] == 'No':\n",
    "        week_log.loc[index, 'zendesk'] = 0\n",
    "    elif week_log.loc[index, 'zendesk'] == 'Yes':\n",
    "        week_log.loc[index, 'zendesk'] = 1\n",
    "        \n",
    "for index, col in week_log.iterrows():\n",
    "    if week_log.loc[index, 'salesforce'] == 'No':\n",
    "        week_log.loc[index, 'salesforce'] = 0\n",
    "    elif week_log.loc[index, 'salesforce'] == 'Yes':\n",
    "        week_log.loc[index, 'salesforce'] = 1\n",
    "\n",
    "for index, col in week_log.iterrows():\n",
    "    if week_log.loc[index, 'gmail'] == 'No':\n",
    "        week_log.loc[index, 'gmail'] = 0\n",
    "    elif week_log.loc[index, 'gmail'] == 'Yes':\n",
    "        week_log.loc[index, 'gmail'] = 1\n",
    "\n",
    "for index, col in week_log.iterrows():\n",
    "    if week_log.loc[index, 'admin_panel'] == 'No':\n",
    "        week_log.loc[index, 'admin_panel'] = 0\n",
    "    elif week_log.loc[index, 'admin_panel'] == 'Yes':\n",
    "        week_log.loc[index, 'admin_panel'] = 1\n",
    "        \n",
    "for index, col in week_log.iterrows():\n",
    "    if week_log.loc[index, 'support_request'] == 'No':\n",
    "        week_log.loc[index, 'support_request'] = 0\n",
    "    elif week_log.loc[index, 'support_request'] == 'Yes':\n",
    "        week_log.loc[index, 'support_request'] = 1"
   ]
  },
  {
   "cell_type": "code",
   "execution_count": null,
   "metadata": {
    "code_folding": [
     0
    ]
   },
   "outputs": [],
   "source": [
    "# Dropping the non-numerical variables we won't use: \n",
    "week_log = week_log.drop(['user_name', 'most_common_ip'], axis = 1)"
   ]
  },
  {
   "cell_type": "code",
   "execution_count": null,
   "metadata": {
    "code_folding": [
     0
    ]
   },
   "outputs": [],
   "source": [
    "# Creating one binary variable per group type: \n",
    "\n",
    "# Generating binary categorical variables\n",
    "one_hot_most_used_page = pd.get_dummies(week_log['most_used_page'])\n",
    "one_hot_company_name = pd.get_dummies(week_log['company_name'])\n",
    "one_hot_industry = pd.get_dummies(week_log['industry'])\n",
    "one_hot_company_size = pd.get_dummies(week_log['company_size'])\n",
    "one_hot_territory = pd.get_dummies(week_log['territory'])\n",
    "one_hot_most_common_referrer = pd.get_dummies(week_log['most_common_referrer'])\n",
    "\n",
    "# Including binary variables in the dataframe\n",
    "week_log = week_log.join([one_hot_most_used_page, one_hot_company_name, one_hot_industry, \n",
    "                          one_hot_company_size, one_hot_territory, one_hot_most_common_referrer])\n",
    "\n",
    "# Checking existing columns:\n",
    "print(week_log.columns)"
   ]
  },
  {
   "cell_type": "code",
   "execution_count": null,
   "metadata": {
    "code_folding": [
     0
    ]
   },
   "outputs": [],
   "source": [
    "# Dropping non-numerical categories: \n",
    "week_log = week_log.drop(['most_used_page', 'company_name', 'industry', 'company_size', \n",
    "                         'territory', 'most_common_referrer'], axis = 1)"
   ]
  },
  {
   "cell_type": "code",
   "execution_count": null,
   "metadata": {
    "code_folding": [
     0
    ]
   },
   "outputs": [],
   "source": [
    "# Creating variable to divide users with more weekly logins than average: \n",
    "week_log['user_success'] = 0\n",
    "\n",
    "# replacing values based on a condition\n",
    "for index, col in week_log.iterrows():\n",
    "    if week_log.loc[index, 'weekly_logins'] > week_log['weekly_logins'].mean():\n",
    "        week_log.loc[index,'user_success'] = 1\n",
    "    elif week_log.loc[index, 'weekly_logins'] <= week_log['weekly_logins'].mean():\n",
    "        week_log.loc[index,'user_success'] = 0"
   ]
  },
  {
   "cell_type": "code",
   "execution_count": null,
   "metadata": {
    "code_folding": [
     0
    ]
   },
   "outputs": [],
   "source": [
    "# Saving edited file: \n",
    "week_log.to_csv('weekly_logins_edited.csv',\n",
    "                              index = False)"
   ]
  },
  {
   "cell_type": "markdown",
   "metadata": {},
   "source": [
    "After preparing the data, we saved to use it on R to build the Tree Based-Model. Now, we will analyze a little deeper the data with histogram and correlations among weekly logins and the other variables."
   ]
  },
  {
   "cell_type": "markdown",
   "metadata": {},
   "source": [
    "***\n",
    "<h3> Exploratory analysis </h3>"
   ]
  },
  {
   "cell_type": "code",
   "execution_count": null,
   "metadata": {
    "code_folding": [
     0
    ]
   },
   "outputs": [],
   "source": [
    "# Checking weekly logins histogram: \n",
    "sns.distplot(week_log['weekly_logins'],\n",
    "                 bins  = 'fd',\n",
    "                 color = 'g')\n",
    "plt.xlabel('Weekly Logins')\n",
    "plt.tight_layout()\n",
    "plt.show()"
   ]
  },
  {
   "cell_type": "code",
   "execution_count": null,
   "metadata": {
    "code_folding": [
     0
    ]
   },
   "outputs": [],
   "source": [
    "# Ranking correlations with user_success: \n",
    "week_log_corr = week_log.corr().round(2)\n",
    "week_log_corr.loc['user_success'].sort_values(ascending = False)"
   ]
  },
  {
   "cell_type": "code",
   "execution_count": null,
   "metadata": {
    "code_folding": [
     0
    ]
   },
   "outputs": [],
   "source": [
    "# Getting top 5 highest correlations (except user_success and weekly logins): \n",
    "week_log_corr.loc['user_success'].sort_values(ascending = False).head(n=7)"
   ]
  },
  {
   "cell_type": "code",
   "execution_count": null,
   "metadata": {
    "code_folding": [
     0
    ]
   },
   "outputs": [],
   "source": [
    "# Getting top 5 lowest correlations: \n",
    "week_log_corr.loc['user_success'].sort_values(ascending = True).head(n=5)"
   ]
  },
  {
   "cell_type": "code",
   "execution_count": null,
   "metadata": {
    "code_folding": [
     0
    ]
   },
   "outputs": [],
   "source": [
    "# Plotting correlation matrix: \n",
    "fig, ax = plt.subplots(figsize=(12,12))\n",
    "week_log_corr2 = week_log_corr.loc[['free_trial','slack_integration','/tool/storyboard', 'One Legal', '/mail.google.com',\n",
    "                                   '/home', '/login', '/tool/build_query','/dashboard', '>$10B'], \n",
    "                       ['weekly_logins']]\n",
    "sns.heatmap(week_log_corr2,\n",
    "            cmap = 'coolwarm',\n",
    "            square = True,\n",
    "            annot = True,\n",
    "            linecolor = 'black',\n",
    "            linewidths = 0.5)\n",
    "plt.show()"
   ]
  },
  {
   "cell_type": "markdown",
   "metadata": {},
   "source": [
    "With the correlation analysis, it is already possible to check that the main two groups related to a higher weekly number of logins are <strong> \"Had Free Trial\" </strong> and <strong> \"Slack Integration\" </strong>."
   ]
  }
 ],
 "metadata": {
  "kernelspec": {
   "display_name": "Python 3",
   "language": "python",
   "name": "python3"
  },
  "language_info": {
   "codemirror_mode": {
    "name": "ipython",
    "version": 3
   },
   "file_extension": ".py",
   "mimetype": "text/x-python",
   "name": "python",
   "nbconvert_exporter": "python",
   "pygments_lexer": "ipython3",
   "version": "3.7.4"
  },
  "toc": {
   "base_numbering": 1,
   "nav_menu": {},
   "number_sections": true,
   "sideBar": true,
   "skip_h1_title": false,
   "title_cell": "Table of Contents",
   "title_sidebar": "Contents",
   "toc_cell": false,
   "toc_position": {},
   "toc_section_display": true,
   "toc_window_display": false
  },
  "varInspector": {
   "cols": {
    "lenName": 16,
    "lenType": 16,
    "lenVar": 40
   },
   "kernels_config": {
    "python": {
     "delete_cmd_postfix": "",
     "delete_cmd_prefix": "del ",
     "library": "var_list.py",
     "varRefreshCmd": "print(var_dic_list())"
    },
    "r": {
     "delete_cmd_postfix": ") ",
     "delete_cmd_prefix": "rm(",
     "library": "var_list.r",
     "varRefreshCmd": "cat(var_dic_list()) "
    }
   },
   "types_to_exclude": [
    "module",
    "function",
    "builtin_function_or_method",
    "instance",
    "_Feature"
   ],
   "window_display": false
  }
 },
 "nbformat": 4,
 "nbformat_minor": 2
}
